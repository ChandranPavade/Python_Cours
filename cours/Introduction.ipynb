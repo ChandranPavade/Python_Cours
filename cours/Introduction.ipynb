{
 "cells": [
  {
   "cell_type": "markdown",
   "metadata": {},
   "source": [
    "# Introduction - 12/02\n",
    "\n",
    "Python est un langage **interprété** comme PHP : nul besoin de compiler le code avant son exécution. La force de Python réside dans sa simplicité d'utilisation. On le retrouve pour cela dans différents domaines : \n",
    ">calcul scientifique, bases de données, graphisme, jeux, développement web, analyse des données, intelligence artificielle, etc..\n",
    "\n",
    "Plusieurs paradigmes de programmation peuvent être utilisés : **impératif, fonctionnel, orienté-objet**. Nous jonglerons entre ces 3 types selon nos besoins. \n",
    "\n",
    "Introduit en 1991, par le développeur néerlandais  Guido van Rossum, il gagne rapidement en popularité. Aujourd'hui, vous trouverez des milliers de modules / bibliothèques open-source écrites en Python. Une grande communauté de développeurs Python existe, n'hésitez donc pas à googler lorsque vous cherchez une info en particulier, vous trouverez sûrement de l'aide sur des blogs ou Stack Overflow. A la fin de ce notebook, vous trouverez une liste de ressources auxquelles vous pourrez vous référez.\n",
    "\n",
    "Comme dans tout langage, la maîtrise vient avec la pratique donc si vous voulez vous entraîner, n'hésitez pas à faire et refaire les exercices que je mettrai dans les notebooks. \n",
    "Si vous voulez aller plus loin, vous pouvez aussi vous entraîner sur des plateformes telles que [CodeWars](https://www.codewars.com/dashboard). "
   ]
  },
  {
   "cell_type": "markdown",
   "metadata": {},
   "source": [
    "## Quelques considérations\n",
    "\n",
    "Avant de poursuivre, il y a quelques éléments à prendre pour coder en Python. \n",
    "- Pas d'accolades\n",
    "- Pas de délimiteurs\n",
    "- tout est dans l'indentation : cela peut être difficile au début mais on s'habitue vite"
   ]
  },
  {
   "cell_type": "markdown",
   "metadata": {},
   "source": [
    "## Identifiants"
   ]
  },
  {
   "cell_type": "markdown",
   "metadata": {},
   "source": [
    "### Mots-clés / Mots réservés en Python\n",
    "\n",
    "Il y a certains mots réservés en Python. Les mots clés en Python ne peuvent être utilisés comme noms de variables / fonctions / objets."
   ]
  },
  {
   "cell_type": "code",
   "execution_count": 2,
   "metadata": {},
   "outputs": [
    {
     "name": "stdout",
     "output_type": "stream",
     "text": [
      "['False', 'None', 'True', 'and', 'as', 'assert', 'async', 'await', 'break', 'class', 'continue', 'def', 'del', 'elif', 'else', 'except', 'finally', 'for', 'from', 'global', 'if', 'import', 'in', 'is', 'lambda', 'nonlocal', 'not', 'or', 'pass', 'raise', 'return', 'try', 'while', 'with', 'yield']\n"
     ]
    }
   ],
   "source": [
    "import keyword\n",
    "print(keyword.kwlist)"
   ]
  },
  {
   "cell_type": "markdown",
   "metadata": {},
   "source": [
    "### Règles pour les identifiants \n",
    "\n",
    "Voici quelques règles à respecter pour l'écriture des noms de variables :\n",
    "\n",
    "- Combinaison de lettres minuscules / majuscules, chiffres et tirets du bas\n",
    "- Outre les tirets du bas, les autres éléments de ponctuation ne sont pas permis\n",
    "- Un nom de variable ne peut pas commencer par un chiffre"
   ]
  },
  {
   "cell_type": "code",
   "execution_count": 3,
   "metadata": {},
   "outputs": [
    {
     "data": {
      "text/plain": [
       "int"
      ]
     },
     "execution_count": 3,
     "metadata": {},
     "output_type": "execute_result"
    }
   ],
   "source": [
    "var = \"test\"\n",
    "var = 12\n",
    "type(var)"
   ]
  },
  {
   "cell_type": "code",
   "execution_count": 4,
   "metadata": {},
   "outputs": [
    {
     "ename": "SyntaxError",
     "evalue": "invalid syntax (<ipython-input-4-4e79128232e0>, line 1)",
     "output_type": "error",
     "traceback": [
      "\u001b[0;36m  File \u001b[0;32m\"<ipython-input-4-4e79128232e0>\"\u001b[0;36m, line \u001b[0;32m1\u001b[0m\n\u001b[0;31m    &oihzoz = \"test\"\u001b[0m\n\u001b[0m    ^\u001b[0m\n\u001b[0;31mSyntaxError\u001b[0m\u001b[0;31m:\u001b[0m invalid syntax\n"
     ]
    }
   ],
   "source": [
    "&oihzoz = \"test\""
   ]
  },
  {
   "cell_type": "markdown",
   "metadata": {},
   "source": [
    "### Bonnes pratiques de nommage\n",
    "\n",
    "On privilégie les variables en majuscule pour les constantes sinon l'ensemble des variables devrait être en minuscule. Python est sensible à la casse donc les identifiants var et Var sont différents en Python.\n",
    "\n",
    "Comme pour les autres langages, des noms de variables explicites sont à privilégier. Dans le cas de noms de variables composés de plusieurs moments, vous pouvez séparer les mots par des underscores. Les variables peuvent être accentuées mais pour éviter les fautes d'inattention, il est préférable de tout écrire sans accent.  "
   ]
  },
  {
   "cell_type": "code",
   "execution_count": 5,
   "metadata": {},
   "outputs": [
    {
     "data": {
      "text/plain": [
       "'hello'"
      ]
     },
     "execution_count": 5,
     "metadata": {},
     "output_type": "execute_result"
    }
   ],
   "source": [
    "ma_premiere_var = \"hello\"\n",
    "ma_premiere_var "
   ]
  },
  {
   "cell_type": "code",
   "execution_count": 6,
   "metadata": {},
   "outputs": [
    {
     "data": {
      "text/plain": [
       "'test'"
      ]
     },
     "execution_count": 6,
     "metadata": {},
     "output_type": "execute_result"
    }
   ],
   "source": [
    "première_var = \"test\"\n",
    "première_var"
   ]
  },
  {
   "cell_type": "markdown",
   "metadata": {},
   "source": [
    "## Commentaires / Docstrings\n",
    "\n",
    "\n",
    "### Commentaires\n",
    "\n",
    "Les commentaires en Python s'écrivent avec des **hashtags**. \n",
    "\n",
    "Malheureusement, si vous voulez des commentaires sur plusieurs lignes, il faudra mettre un hashtag à chaque début de ligne. \n",
    "\n",
    "### Docstrings\n",
    "\n",
    "Une docstring est une chaîne de caractères qui apparaît lors de la définition d''une fonction, classe, module ou méthode. Elle sert d'explication. Normalement tout module et fonctions/classes exportées par un module doivent avoir une docstring. Vous pouvez l'afficher avec l'attribut \\__doc\\__ de l'objet en question."
   ]
  },
  {
   "cell_type": "markdown",
   "metadata": {},
   "source": [
    "## Comment exécuter du code Python ?\n",
    "\n",
    "### Exécution depuis le notebook\n",
    "\n",
    "Avec Jupyter Notebook, l'exécution de code Python est assez simple. Vous pouvez créer un nouveau notebook qui prendra comme kernel, l'exécutable de votre environnement virtuel. Par défaut, une nouvelle cellule du notebook est une cellule de code Python. Cliquer sur **Ctrl + Entrée** pour exécuter le code.\n",
    "\n",
    "### Exécution depuis Python REPL (Read, Evaluate, Print, Loop)\n",
    "\n",
    "Vous pouvez aussi utiliser une fenêtre interactive. Je l'utilise souvent pour tester des snippets de code lorsque je ne veux pas créer un nouveau fichier. \n",
    "\n",
    "Allez dans votre terminal et taper **python**. Le REPL s'affichera. Taper `print(\"Hello world\")`, vous verrez Hello World affiché à l'écran. Pour quitter le REPL, taper `exit` ou Ctrl + D.\n",
    "\n",
    "### Exécution depuis le terminal\n",
    "\n",
    "Généralement, j'écris mon code dans un fichier avec une extention **.py** et je lance l'exécution depuis le terminal avec la commande **python nom_fichier.py**. \n",
    "\n",
    "#### Example de fichier Python \n"
   ]
  },
  {
   "cell_type": "code",
   "execution_count": 3,
   "metadata": {},
   "outputs": [
    {
     "name": "stdout",
     "output_type": "stream",
     "text": [
      "something\n"
     ]
    }
   ],
   "source": [
    "def do_something() :\n",
    "    return \"something\"\n",
    "\n",
    "def do_another_thing() :\n",
    "    return \"another thing\"\n",
    "\n",
    "if __name__ == \"__main__\" :\n",
    "    print(do_something())"
   ]
  },
  {
   "cell_type": "markdown",
   "metadata": {},
   "source": [
    "Un fichier Python peut aussi bien être appelé depuis un terminal que depuis un autre module.  \n",
    "La condition `if __name__ == \"__main__\" :` montre à Python que le code qui suit cette condition ne doit être exécuté que si le fichier est le module principal soit un module appelé directement et non via un autre module."
   ]
  },
  {
   "cell_type": "markdown",
   "metadata": {},
   "source": [
    "## Ressources\n",
    "\n",
    "[Documentation officielle](https://docs.python.org/fr/3/)  \n",
    "[Python Doctor](https://python.doctor/)  \n",
    "[Real Python](https://realpython.com/)   \n",
    "[Docstrings - PEP 0257](https://www.python.org/dev/peps/pep-0257/)"
   ]
  }
 ],
 "metadata": {
  "kernelspec": {
   "display_name": "Python 3",
   "language": "python",
   "name": "python3"
  },
  "language_info": {
   "codemirror_mode": {
    "name": "ipython",
    "version": 3
   },
   "file_extension": ".py",
   "mimetype": "text/x-python",
   "name": "python",
   "nbconvert_exporter": "python",
   "pygments_lexer": "ipython3",
   "version": "3.9.0"
  }
 },
 "nbformat": 4,
 "nbformat_minor": 4
}
