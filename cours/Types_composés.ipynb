{
 "cells": [
  {
   "cell_type": "markdown",
   "id": "british-filling",
   "metadata": {},
   "source": [
    "# Types composés - 12/02\n",
    "\n",
    "Il faut distinguer les types dits **simples** des types **composés**.\n",
    "\n",
    "Les types **simples** concernent les chaînes de caractères, les nombres entiers / décimaux et les booléens.  \n",
    "Les types **composés** regroupent les listes, tuples, dictionnaires et sets.\n",
    "\n",
    "Voyons la suite avec les types composés.\n",
    "\n",
    "## Sommaire\n",
    "\n",
    "#### [Listes](#listes)\n",
    "#### [Tuples](#tuples)\n",
    "#### [Dictionnaires](#dicts)\n",
    "#### [Sets](#sets)"
   ]
  },
  {
   "cell_type": "markdown",
   "id": "innocent-essex",
   "metadata": {},
   "source": [
    "<a id=\"listes\"></a>\n",
    "## Listes\n",
    "\n",
    "On retrouve les listes partout en Python donc il est important de comprendre comment elles fonctionnent, leurs caractéristiques et leurs méthodes.\n",
    "\n",
    "Une liste est une collection d'éléments ordonnés."
   ]
  },
  {
   "cell_type": "code",
   "execution_count": null,
   "id": "unique-viewer",
   "metadata": {},
   "outputs": [],
   "source": [
    "# création d'une liste vide\n",
    "liste_vide = []\n",
    "liste_vide = list()"
   ]
  },
  {
   "cell_type": "code",
   "execution_count": null,
   "id": "particular-daniel",
   "metadata": {},
   "outputs": [],
   "source": [
    "liste = [\"foo\", \"baz\", 298, True, 98.09]\n",
    "liste"
   ]
  },
  {
   "cell_type": "code",
   "execution_count": null,
   "id": "bronze-fighter",
   "metadata": {},
   "outputs": [],
   "source": [
    "deuxieme_liste = list((26, 28, True, \"Salut\"))\n",
    "deuxieme_liste"
   ]
  },
  {
   "cell_type": "markdown",
   "id": "piano-rebecca",
   "metadata": {},
   "source": [
    "### Caractéristiques des listes en Python\n",
    "\n",
    "- Elles sont ordonnées\n",
    "- Les listes peuvent contenir plusieurs types d'objets - int, float, bool, str, functions, objets ad hoc, etc..\n",
    "- Les listes peuvent être imbriquées\n",
    "- Les listes peuvent être modifiées\n",
    "- Les listes sont dynamiques - on peut leur ajouter des éléments après leur création"
   ]
  },
  {
   "cell_type": "markdown",
   "id": "expected-anchor",
   "metadata": {},
   "source": [
    "### Récupération des éléments d'une liste\n",
    "\n",
    "Essayez de comprendre ce que chaque instruction signifie : "
   ]
  },
  {
   "cell_type": "code",
   "execution_count": null,
   "id": "intense-trainer",
   "metadata": {},
   "outputs": [],
   "source": [
    "numbers = [19, 7, 89.9, 56, 6547, 90, 45, 324.8, 76, 967, 123, 67, 5436]"
   ]
  },
  {
   "cell_type": "code",
   "execution_count": null,
   "id": "practical-frame",
   "metadata": {},
   "outputs": [],
   "source": [
    "numbers[2:4]"
   ]
  },
  {
   "cell_type": "code",
   "execution_count": null,
   "id": "precious-tolerance",
   "metadata": {},
   "outputs": [],
   "source": [
    "numbers[5:]"
   ]
  },
  {
   "cell_type": "code",
   "execution_count": null,
   "id": "accessible-fisher",
   "metadata": {},
   "outputs": [],
   "source": [
    "numbers[:7]"
   ]
  },
  {
   "cell_type": "code",
   "execution_count": null,
   "id": "brazilian-faith",
   "metadata": {},
   "outputs": [],
   "source": [
    "numbers[1:7:2]"
   ]
  },
  {
   "cell_type": "code",
   "execution_count": null,
   "id": "productive-affairs",
   "metadata": {},
   "outputs": [],
   "source": [
    "numbers[-1]"
   ]
  },
  {
   "cell_type": "markdown",
   "id": "provincial-energy",
   "metadata": {},
   "source": [
    "### Fonctions et méthodes usuelles\n",
    "\n",
    "`len(liste)` : longueur de la liste  \n",
    "`min(liste) / max(liste)` : retourne le minimum / maximum de la liste  \n",
    "`liste.index(x)` : retourne la position de l'élément `x` dans `liste`  \n",
    "`liste.index(x, s)` : retourne la première occurrence de `x` à partir de la position `s`    \n",
    "`liste.count(x)` : retourne le nombre d'occurrences de `x` dans `liste` \n",
    "\n",
    "#### Suppression \n",
    "\n",
    "`liste.pop()` : retire le dernier élément de `liste` et le retourne    \n",
    "`liste.remove(x)` : retire la première occurrence de `x` dans `liste`  \n",
    "`liste.clear()` : retire tous les éléments de `liste`  \n",
    "`del liste[i]` : supprime l'élément à la position `i`\n",
    "\n",
    "#### Existence\n",
    "\n",
    "`x in liste` : vérifie si `x` est présent dans `liste`  \n",
    "`x not in liste` : vérifie que `x` n'est pas dans `liste`\n",
    "\n",
    "#### Ajout\n",
    "\n",
    "`liste.append(item)` : ajout d'`item` dans `liste`  \n",
    "`liste.insert(i, x)`: ajout de `x` à la position `i` dans `liste`  \n",
    "`liste.extend(nouvelle_liste)` / `liste += nouvelle_liste`: ajout des éléments de `nouvelle_liste` dans `liste`\n",
    "\n",
    "#### Tri\n",
    "\n",
    "`liste.sort()` : tri de la liste dans l'ordre alphabétique / croissant  \n",
    "`liste.reverse()` : tri dans le sens inverse"
   ]
  },
  {
   "cell_type": "markdown",
   "id": "tribal-austin",
   "metadata": {},
   "source": [
    "### Compréhension de liste\n",
    "\n",
    "`liste = [expression for item in iterable if condition]`"
   ]
  },
  {
   "cell_type": "code",
   "execution_count": null,
   "id": "secure-wilson",
   "metadata": {},
   "outputs": [],
   "source": [
    "compr_list = [i for i in [1, 2, 3, 4, 5, 6, 7, 8, 9, 10] if i % 2 == 0]"
   ]
  },
  {
   "cell_type": "markdown",
   "id": "generous-cattle",
   "metadata": {},
   "source": [
    "### Unpacking"
   ]
  },
  {
   "cell_type": "code",
   "execution_count": null,
   "id": "boring-prescription",
   "metadata": {},
   "outputs": [],
   "source": [
    "foo, bar, zoo = [\"foo\", \"bar\", \"zoo\"]"
   ]
  },
  {
   "cell_type": "markdown",
   "id": "noted-stockholm",
   "metadata": {},
   "source": [
    "### Fonction range\n",
    "\n",
    "Avec la fonction range, il est aisé de créer des séquences de chiffres.\n",
    "\n",
    "`range(start, stop, step)`"
   ]
  },
  {
   "cell_type": "code",
   "execution_count": null,
   "id": "arranged-negotiation",
   "metadata": {},
   "outputs": [],
   "source": [
    "list(range(0, 10))"
   ]
  },
  {
   "cell_type": "code",
   "execution_count": null,
   "id": "republican-license",
   "metadata": {},
   "outputs": [],
   "source": [
    "list(range(10))"
   ]
  },
  {
   "cell_type": "code",
   "execution_count": null,
   "id": "chubby-republic",
   "metadata": {},
   "outputs": [],
   "source": [
    "list(range(0, 10, 2))"
   ]
  },
  {
   "cell_type": "markdown",
   "id": "eligible-kinase",
   "metadata": {},
   "source": [
    "Veuillez noter que le dernier nombre de l'intervalle n'est jamais inclus dans la liste. La fonction range est très utile surtout dans les boucles."
   ]
  },
  {
   "cell_type": "markdown",
   "id": "documentary-defeat",
   "metadata": {},
   "source": [
    "### Manipulation de listes\n",
    "\n",
    "Vous trouverez certains éléments de réponses dans le notebook et d'autres sur le net (très facilement)."
   ]
  },
  {
   "cell_type": "code",
   "execution_count": null,
   "id": "numerous-radar",
   "metadata": {},
   "outputs": [],
   "source": [
    "random = [\"foo\", 298, True, 98.09, int, \"baz\", 0]\n",
    "random"
   ]
  },
  {
   "cell_type": "markdown",
   "id": "committed-repair",
   "metadata": {},
   "source": [
    "\n",
    "\n",
    "- Afficher le premier élément de la liste\n",
    "- Afficher le dernier élément de la liste\n",
    "- Afficher le 3ème et 4ème éléments de la liste\n",
    "- Vérifier que \"foo\" est bien dans la liste random\n",
    "- Vérifier que 800 n'est pas dans la liste random\n",
    "- Créer une deuxième liste **stuff** (seulement avec des valeurs numériques) et créer une troisième liste **random_stuff** qui aura le contenu des listes **random** et **stuff**\n",
    "- Récupérer la longueur de la liste **random_stuff**\n",
    "- Récupérer le minimum et le max de la liste **stuff**\n",
    "- Ajouter une nouvelle liste **nested_list** avec au moins 3 éléments à **random_stuff**\n",
    "- Afficher le 2ème élément de **nested_list** depuis **random_stuff**\n",
    "- Remplacer \"baz\" par \"bar\" dans **random_stuff**\n",
    "- Supprimer le 5ème élément de **random_stuff**\n",
    "- Ajouter float au début de la liste **random_stuff**\n",
    "- Copier la liste **random_stuff** dans une nouvele variable **another_stuff**\n",
    "- Créer, grâce à une compréhension de liste, une nouvelle liste **three_multiples**, qui contiendra tous les multiples de 3 entre 0 et 100\n",
    "- Créer deux variables x et y, assignez-leurs les valeurs que vous souhaitez. Utiliser l'unpacking pour échanger leurs valeurs.\n",
    "- Créer la liste suivante : [\"J\", \"'\", \"aime \", \"le \", \"confinement\"] et utiliser une méthode string pour transformer la liste en chaîne de caractères"
   ]
  },
  {
   "cell_type": "markdown",
   "id": "parallel-austin",
   "metadata": {},
   "source": [
    "<a id=\"tuples\"></a>\n",
    "## Tuples\n",
    "\n",
    "Les tuples sont similaires aux listes. Il y a cependant 2 différences : \n",
    "- les tuples sont représentés avec des parenthèses\n",
    "- les tuples sont immuables\n",
    "\n",
    "Vous pouvez si vous le souhaitez refaire le même exercice avec un tuple et observer les différences."
   ]
  },
  {
   "cell_type": "code",
   "execution_count": null,
   "id": "cross-slovakia",
   "metadata": {},
   "outputs": [],
   "source": [
    "random = (\"foo\", 298, True, 98.09, int, \"baz\", 0)\n",
    "random"
   ]
  },
  {
   "cell_type": "code",
   "execution_count": null,
   "id": "acknowledged-reviewer",
   "metadata": {},
   "outputs": [],
   "source": [
    "random.append(\"bar\") # génère une erreur"
   ]
  },
  {
   "cell_type": "markdown",
   "id": "former-queensland",
   "metadata": {},
   "source": [
    "#### Dans quel cas privilégier un tuple par rapport à une liste ?\n",
    "\n",
    "- Traitement de données massives: le tuple est plus performant\n",
    "- Nécessité d'avoir une liste immuable\n",
    "- Les clés de dictionnaires doivent être immuables donc vous pouvez utiliser les tuples comme clés si nécessaire"
   ]
  },
  {
   "cell_type": "markdown",
   "id": "thrown-porter",
   "metadata": {},
   "source": [
    "<a id=\"dicts\"></a>\n",
    "## Dictionnaires\n",
    "\n",
    "Les dictionnaires sont comme les listes, il s'agit d'une collection d'éléments.   \n",
    "Par contre, les dictionnaires n'ont pas d'ordre et leurs éléments sont accessibles grâce à leurs clés.  \n",
    "Comme les listes, les dictionnaires sont dynamiques et imbricables.\n",
    "\n",
    "L'utilisation d'une liste / tuple / dictionnaire dépendra du contexte et de vos besoins."
   ]
  },
  {
   "cell_type": "code",
   "execution_count": null,
   "id": "selective-henry",
   "metadata": {},
   "outputs": [],
   "source": [
    "# exemples de dictionnaire\n",
    "dictionnaire = {}\n",
    "\n",
    "dictionnaire = dict()\n",
    "\n",
    "dictionnaire = {\n",
    "    \"a\" : 97,\n",
    "    \"b\" : 98,\n",
    "    \"foo\" : \"hello\",\n",
    "    \"courir\" : False,\n",
    "    12 : \"salut\",\n",
    "    (12, 89) : \"hola\"\n",
    "}\n",
    "\n",
    "dictionnaire"
   ]
  },
  {
   "cell_type": "code",
   "execution_count": null,
   "id": "bigger-geneva",
   "metadata": {},
   "outputs": [],
   "source": [
    "# autre exemple de dictionnaire\n",
    "dictionnaire = dict([\n",
    "    (\"a\", 97),\n",
    "    (\"b\", 98), \n",
    "    (\"foo\", \"hello\"),\n",
    "    (\"courir\", False),\n",
    "    (12, \"salut\")\n",
    "])\n",
    "dictionnaire"
   ]
  },
  {
   "cell_type": "code",
   "execution_count": null,
   "id": "crazy-camping",
   "metadata": {},
   "outputs": [],
   "source": [
    "# autre façon de créer un dictionnaire\n",
    "# la fonction zip joint les éléments des 2 listes deux à deux \n",
    "dictionnaire = dict(zip([\"a\", \"b\", \"foo\", \"courir\", 12], [97, 98, \"hello\", False, \"salut\"]))\n",
    "dictionnaire # même résultat"
   ]
  },
  {
   "cell_type": "markdown",
   "id": "worldwide-commodity",
   "metadata": {},
   "source": [
    "### Fonctions et méthodes utiles\n",
    "\n",
    "```\n",
    "animal = {\n",
    "\"nom\" : \"Felix\",\n",
    "\"nb_pattes\" : 4,\n",
    "\"espèce\" : \"chat\"\n",
    "}\n",
    "\n",
    "animal_maj = {\n",
    "\"nom\" : \"Chaman\",\n",
    "\"nb_pattes\" : 4,\n",
    "\"espèce\" : \"chat\",\n",
    "\"age\" : 5\n",
    "}\n",
    "```\n",
    "\n",
    "`animal.update(animal_maj)` : met à jour les valeurs d'`animal` avec les valeurs d'`animal_maj`  \n",
    "`animal |= animal_maj` : (Python 3.9) fusion des éléments d'`animal` avec ceux d'`animal_maj` en cas de conflit au niveau des clés, les valeurs d'`animal_maj` priment."
   ]
  },
  {
   "cell_type": "markdown",
   "id": "numerical-patent",
   "metadata": {},
   "source": [
    "### Manipulation de dictionnaires"
   ]
  },
  {
   "cell_type": "markdown",
   "id": "apart-siemens",
   "metadata": {},
   "source": [
    "Créer le dictionnaire suivant : \n",
    "\n",
    "```\n",
    "dictionnaire = dict([\n",
    "    (\"a\", 97),\n",
    "    (\"b\", 98), \n",
    "    (\"foo\", \"hello\"),\n",
    "    (\"courir\", False),\n",
    "    (12, \"salut\")\n",
    "])\n",
    "\n",
    "```\n",
    "\n",
    "- afficher la valeur associée aux clés **a** et **12**\n",
    "- Créer un autre dictionnaire **person**, vide. Puis ajoutez-y les éléments pour définir une personne tels que son nom, âge, taille, poids, etc..\n",
    "- Afficher l'âge contenu dans le dictionnaire **person**.\n",
    "- Créer le dictionnaire suivant : \n",
    "\n",
    "```\n",
    "{\n",
    "  \"Bourgogne\" : \"Dijon\",\n",
    "  \"Ile de France\" : \"Paris\",\n",
    "  \"Bretagne\" : \"Brest\",\n",
    "  \"Alsace\" : \"Strasbourg\",\n",
    "  \"Ile de France\" : \"Melun\"\n",
    "}\n",
    "```\n",
    "\n",
    "- D'ou vient l'erreur ?\n",
    "- Afficher le nombre d'élements dans le dictionnaire **person**\n",
    "- Récupérer seulement les clés de **person**\n",
    "- Récupérer seulement les valeurs de **person**\n",
    "- Récupérer les éléments de **person** sous forme de tuples, ex : (\"nom\", \"Patrice\"), (\"age\", 20), etc..\n",
    "- Retirer le poids de **person**\n",
    "- Créer un autre dictionnaire **person2**\n",
    "- Fusionner **person** et **person2**\n",
    "- Vider le dictionnaire **person**"
   ]
  },
  {
   "cell_type": "markdown",
   "id": "rotary-nickname",
   "metadata": {},
   "source": [
    "<a id=\"sets\"></a>\n",
    "## Sets\n",
    "\n",
    "Les sets font références aux ensembles que l'on peut voir en mathématiques par exemple. Les sets se distinguent des autres types composés de par leurs méthodes particulières.\n",
    "\n",
    "En outre, les sets sont :\n",
    "\n",
    "- non-ordonnés\n",
    "- dynamiques\n",
    "\n",
    "Les membres des sets sont **uniques** et **immuables**."
   ]
  },
  {
   "cell_type": "code",
   "execution_count": null,
   "id": "suburban-storm",
   "metadata": {},
   "outputs": [],
   "source": [
    "example_set = set([2, \"hello\", \"foo\", True, int])\n",
    "print(example_set)\n",
    "\n",
    "another_set = set((827, \"bar\", False, (282, 9, \"bar\")))\n",
    "print(another_set)\n",
    "\n",
    "last_set = set(\"hello\")\n",
    "print(last_set)"
   ]
  },
  {
   "cell_type": "markdown",
   "id": "systematic-miami",
   "metadata": {},
   "source": [
    "### Méthodes usuelles"
   ]
  },
  {
   "cell_type": "markdown",
   "id": "interested-single",
   "metadata": {},
   "source": [
    "#### Union\n"
   ]
  },
  {
   "cell_type": "code",
   "execution_count": null,
   "id": "saved-invite",
   "metadata": {},
   "outputs": [],
   "source": [
    "x1 = set([12, 98, 10])\n",
    "x2 = set([23, 10, 76])\n",
    "\n",
    "# 2 méthodes\n",
    "x1.union(x2)\n",
    "x1 | x2"
   ]
  },
  {
   "cell_type": "code",
   "execution_count": null,
   "id": "virtual-monroe",
   "metadata": {},
   "outputs": [],
   "source": [
    "# union + assignement\n",
    "x1 |= x2\n",
    "x1"
   ]
  },
  {
   "cell_type": "markdown",
   "id": "correct-cable",
   "metadata": {},
   "source": [
    "#### Intersection"
   ]
  },
  {
   "cell_type": "code",
   "execution_count": null,
   "id": "convinced-catholic",
   "metadata": {},
   "outputs": [],
   "source": [
    "x1 = set([12, 98, 10])\n",
    "x2 = set([23, 10, 76, 98])\n",
    "\n",
    "# 2 méthodes\n",
    "x1.intersection(x2)\n",
    "x1 & x2"
   ]
  },
  {
   "cell_type": "code",
   "execution_count": null,
   "id": "ranking-universe",
   "metadata": {},
   "outputs": [],
   "source": [
    "# intersection + assignement\n",
    "x1 &= x2\n",
    "x1"
   ]
  },
  {
   "cell_type": "markdown",
   "id": "upset-petite",
   "metadata": {},
   "source": [
    "#### Différence"
   ]
  },
  {
   "cell_type": "code",
   "execution_count": null,
   "id": "herbal-aging",
   "metadata": {},
   "outputs": [],
   "source": [
    "x1 = set([12, 98, 10])\n",
    "x2 = set([23, 10, 76])\n",
    "\n",
    "x1.difference(x2)\n",
    "x1 - x2"
   ]
  },
  {
   "cell_type": "code",
   "execution_count": null,
   "id": "blocked-thermal",
   "metadata": {},
   "outputs": [],
   "source": [
    "# différence + assignement\n",
    "x1 -= x2\n",
    "x1"
   ]
  },
  {
   "cell_type": "markdown",
   "id": "handmade-training",
   "metadata": {},
   "source": [
    "#### Différence symétrique"
   ]
  },
  {
   "cell_type": "code",
   "execution_count": null,
   "id": "taken-enforcement",
   "metadata": {},
   "outputs": [],
   "source": [
    "x1 = set([12, 98, 10])\n",
    "x2 = set([23, 10, 76, 98])\n",
    "\n",
    "x1.symmetric_difference(x2)\n",
    "x1 ^ x2"
   ]
  },
  {
   "cell_type": "code",
   "execution_count": null,
   "id": "damaged-utilization",
   "metadata": {},
   "outputs": [],
   "source": [
    "# différence symérique + assignement\n",
    "x1 ^= x2\n",
    "x1"
   ]
  },
  {
   "cell_type": "markdown",
   "id": "casual-bosnia",
   "metadata": {},
   "source": [
    "Les sets sont utiles lorsque vous avez besoin d'avoir une liste d'éléments uniques (ex : liste d'utilisateurs d'un site)."
   ]
  },
  {
   "cell_type": "markdown",
   "id": "actual-approach",
   "metadata": {},
   "source": [
    "### Manipulation de sets\n",
    "\n",
    "N'hésitez pas à chercher sur le net ou entre vous, si vous ne trouvez pas la solution. \n",
    "\n",
    "- Créer un nouveau set avec différents types de données\n",
    "- Afficher ce nouveau set. Que peut-on observer ?\n",
    "- Afficher le nombre d'éléments\n",
    "- Vérifier si la chaîne de caractères \"foo\" est dans ce set\n",
    "- Créer un autre set avec certains éléments en commun avec le premier set\n",
    "- Afficher l'intersection entre les deux sets\n",
    "- Afficher l'union des deux sets\n",
    "- Afficher la différence entre ces deux sets\n",
    "- Afficher leur différence symétrique\n",
    "- Ajouter un élément au premier set\n",
    "- Créer un troisième set et ajouter son contenu au premier set\n",
    "- Retirer un élément au troisème set\n",
    "- Vider le premier set"
   ]
  },
  {
   "cell_type": "code",
   "execution_count": null,
   "id": "korean-albuquerque",
   "metadata": {},
   "outputs": [],
   "source": []
  },
  {
   "cell_type": "markdown",
   "id": "close-sunday",
   "metadata": {},
   "source": [
    "## Ressources \n",
    "\n",
    "[Lists / tuples - Real Python](https://realpython.com/python-lists-tuples/)  \n",
    "[Sets - Real Python](https://realpython.com/python-dicts/)"
   ]
  }
 ],
 "metadata": {
  "kernelspec": {
   "display_name": "Python 3",
   "language": "python",
   "name": "python3"
  },
  "language_info": {
   "codemirror_mode": {
    "name": "ipython",
    "version": 3
   },
   "file_extension": ".py",
   "mimetype": "text/x-python",
   "name": "python",
   "nbconvert_exporter": "python",
   "pygments_lexer": "ipython3",
   "version": "3.9.0"
  }
 },
 "nbformat": 4,
 "nbformat_minor": 5
}
