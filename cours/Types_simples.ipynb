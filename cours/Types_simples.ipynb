{
 "cells": [
  {
   "cell_type": "markdown",
   "metadata": {},
   "source": [
    "# Types simples - 12/02\n",
    "\n",
    "Il faut distinguer les types dits **simples** des types **composés**.\n",
    "\n",
    "Les types **simples** concernent les chaînes de caractères, les nombres entiers / décimaux et les booléens.  \n",
    "Les types **composés** regroupent les listes, tuples, dictionnaires et sets.\n",
    "\n",
    "Commençons par les types simples.\n",
    "\n",
    "## Sommaire\n",
    "\n",
    "#### [Chaînes de caractères / Strings](#strings)\n",
    "#### [Nombres Entiers / Integers](#int)\n",
    "#### [Nombres décimaux / Floating-point numbers](#float)\n",
    "#### [Opérations arithmétiques](#arith)\n",
    "#### [Booléens](#bool)"
   ]
  },
  {
   "cell_type": "markdown",
   "metadata": {},
   "source": [
    "<a id=\"strings\"></a>\n",
    "## Chaînes de caractères\n",
    "\n",
    "Avant toute chose, on va commencer par notre première instruction en Python. "
   ]
  },
  {
   "cell_type": "code",
   "execution_count": null,
   "metadata": {},
   "outputs": [],
   "source": [
    "print(\"Hello World\")"
   ]
  },
  {
   "cell_type": "code",
   "execution_count": null,
   "metadata": {},
   "outputs": [],
   "source": [
    "# vérifie le type de \"Hello world\"\n",
    "type(\"Hello World\")"
   ]
  },
  {
   "cell_type": "markdown",
   "metadata": {},
   "source": [
    "On vient d'afficher une chaîne de caractères avec la fonction **print**. Les chaînes de caractères en Python sont des objets qui ont leurs propres méthodes. "
   ]
  },
  {
   "cell_type": "markdown",
   "metadata": {},
   "source": [
    "Une chaîne de caractères est une suite de caractères délimitée par des guillemets ou des apostrophes. Elle peut avoir la taille que vous souhaitez, elle est seulement limitée par la mémoire de votre ordinateur. Comme les listes, dictionnaires, les chaînes de caractères sont des **itérables** : on peut récupérer chaque caractère au sein d'une boucle ou récupérer une partie de la chaîne (slicing). "
   ]
  },
  {
   "cell_type": "code",
   "execution_count": null,
   "metadata": {},
   "outputs": [],
   "source": [
    "langage = \"python\"\n",
    "\n",
    "for letter in langage:\n",
    "    print(letter)\n",
    "    \n",
    "print(\"==========\")\n",
    "print(langage[2:5])\n",
    "print(len(langage)) # affichage de la longueur de la chaine"
   ]
  },
  {
   "cell_type": "markdown",
   "metadata": {},
   "source": [
    "Avec la fonction **dir**, on peut voir l'ensemble des méthodes liées à un objet. Testons avec la variable langage : "
   ]
  },
  {
   "cell_type": "code",
   "execution_count": null,
   "metadata": {},
   "outputs": [],
   "source": [
    "dir(langage)"
   ]
  },
  {
   "cell_type": "markdown",
   "metadata": {},
   "source": [
    "Parmi on voit la méthode **isalpha**, observons ce qu'elle fait : "
   ]
  },
  {
   "cell_type": "code",
   "execution_count": null,
   "metadata": {},
   "outputs": [],
   "source": [
    "print(langage.isalpha.__doc__) #affichage de la docstring"
   ]
  },
  {
   "cell_type": "code",
   "execution_count": null,
   "metadata": {},
   "outputs": [],
   "source": [
    "langage.isalpha()"
   ]
  },
  {
   "cell_type": "markdown",
   "metadata": {},
   "source": [
    "#### Utilisation des méthodes usuelles\n",
    "\n",
    "A l'aide des instructions passées, de la fonction **dir** et de quelques recherches Google, réalisez les opérations suivantes : \n",
    "\n",
    "Créer une variable **chaine** avec le contenu suivant : */s/sJ'aime les haricots verts* (n'oubliez pas les deux espaces au début de la phrase) et réaliser les opérations suivantes : \n",
    "- vérifier s'il s'agit d'un nombre ou non\n",
    "- remplacer la lettre e par la lettre v\n",
    "- retirer les espaces devant **chaine**\n",
    "- vérifier si le mot commence par \"re\"\n",
    "- vérifier si le mot se termine par \"ts\"\n",
    "- passer **chaine** en minuscule\n",
    "- transformer **chaine** en liste ex : mot => [\"m\", \"o\", \"t\"]\n",
    "- afficher la docstring de **chaine**\n",
    "- afficher la sixième lettre de **chaine**\n",
    "- créer une variable **nb** contenant le nombre 89, convertissez-le en chaîne de caractères\n",
    "\n",
    "Trouvez deux autres fonctions pour manipuler votre chaîne de caractères."
   ]
  },
  {
   "cell_type": "code",
   "execution_count": null,
   "metadata": {},
   "outputs": [],
   "source": [
    "chaine = \"  J'aime les haricots verts\"\n",
    "\n",
    "dir(chaine)"
   ]
  },
  {
   "cell_type": "code",
   "execution_count": null,
   "metadata": {},
   "outputs": [],
   "source": []
  },
  {
   "cell_type": "markdown",
   "metadata": {},
   "source": [
    "#### Comment formater nos chaînes de caractère ?\n",
    "\n",
    "La fonction **print** permet aussi le formatage des chaînes de caractères."
   ]
  },
  {
   "cell_type": "code",
   "execution_count": null,
   "metadata": {},
   "outputs": [],
   "source": [
    "nom = \"Nohossat\"\n",
    "print(f\"Hello {nom}\")"
   ]
  },
  {
   "cell_type": "code",
   "execution_count": null,
   "metadata": {},
   "outputs": [],
   "source": [
    "print(\"Hello {}\".format(nom))"
   ]
  },
  {
   "cell_type": "markdown",
   "metadata": {},
   "source": [
    "Utiliser le formatage pour un affichage dynamique de la phrase suivante: \n",
    "\n",
    "> je m'appelle PRENOM. J'ai AGE ans. J'aime ACTIVITE."
   ]
  },
  {
   "cell_type": "code",
   "execution_count": null,
   "metadata": {},
   "outputs": [],
   "source": []
  },
  {
   "cell_type": "markdown",
   "metadata": {},
   "source": [
    "### Comment récupérer l'input d'un utilisateur"
   ]
  },
  {
   "cell_type": "code",
   "execution_count": null,
   "metadata": {},
   "outputs": [],
   "source": [
    "nom = input(\"Quel est ton nom ?\")"
   ]
  },
  {
   "cell_type": "code",
   "execution_count": null,
   "metadata": {},
   "outputs": [],
   "source": [
    "nom"
   ]
  },
  {
   "cell_type": "markdown",
   "metadata": {},
   "source": [
    "<a id=\"int\"></a>\n",
    "## Nombres Entiers / Integers"
   ]
  },
  {
   "cell_type": "code",
   "execution_count": 20,
   "metadata": {},
   "outputs": [],
   "source": [
    "nb = 25"
   ]
  },
  {
   "cell_type": "markdown",
   "metadata": {},
   "source": [
    "La variable **nb** contient un **integer literal** : le nombre 25 est inscrit en dur dans le code. "
   ]
  },
  {
   "cell_type": "markdown",
   "metadata": {},
   "source": [
    "Les entiers longs peuvent être écrits avec des tirets du bas pour améliorer leur lecture: "
   ]
  },
  {
   "cell_type": "code",
   "execution_count": null,
   "metadata": {},
   "outputs": [],
   "source": [
    "int_long = 1_000_000\n",
    "int_long"
   ]
  },
  {
   "cell_type": "markdown",
   "metadata": {},
   "source": [
    "Dans Python, il n'y a pas de limite pour les entiers, essayer d'écrire le nombre le plus long possible, vous verrez que Python le prendra en compte. "
   ]
  },
  {
   "cell_type": "code",
   "execution_count": null,
   "metadata": {},
   "outputs": [],
   "source": [
    "nbr_super_long = 9289872788718738718718387638176981379378108310\n",
    "nbr_super_long"
   ]
  },
  {
   "cell_type": "markdown",
   "metadata": {},
   "source": [
    "Une expression peut aussi nous retourner un entier que l'on peut stocker dans une variable et réutiliser à notre guise."
   ]
  },
  {
   "cell_type": "code",
   "execution_count": null,
   "metadata": {},
   "outputs": [],
   "source": [
    "nbr = 1 + 2\n",
    "nbr"
   ]
  },
  {
   "cell_type": "markdown",
   "metadata": {},
   "source": [
    "On peut aussi convertir une chaîne de caractères en nombre entier avec la fonction **int**."
   ]
  },
  {
   "cell_type": "code",
   "execution_count": null,
   "metadata": {},
   "outputs": [],
   "source": [
    "number = int(\"129\")\n",
    "type(number)"
   ]
  },
  {
   "cell_type": "markdown",
   "metadata": {},
   "source": [
    "#### Utilisation des méthodes usuelles\n",
    "\n",
    "Créez une variable **nb** contenant un entier : \n",
    "\n",
    "- vérifier que la variable **nb** est bien un entier\n",
    "- afficher l'ensemble des méthodes liées à cet objet\n",
    "- créer une variable **number** contenant la valeur \"829\" (string), convertir **number** en entier - vérifier que la conversion a bien été faite avec la fonction **type**\n",
    "- utiliser une méthode pour vérifier si **number** est égal ou non à 90\n",
    "- utiliser une méthode pour vérifier que **nb** est supérieur à 10\n",
    "- utiliser une méthode pour calculer la puissance de **nb**\n",
    "- affichier la docstring de **nb**"
   ]
  },
  {
   "cell_type": "code",
   "execution_count": 36,
   "metadata": {},
   "outputs": [],
   "source": [
    "nb = 24"
   ]
  },
  {
   "cell_type": "markdown",
   "metadata": {},
   "source": [
    "<a id=\"float\"></a>\n",
    "## Nombres décimaux / Floating-point numbers"
   ]
  },
  {
   "cell_type": "markdown",
   "metadata": {},
   "source": [
    "On peut créer un nombre décimal avec un litéral ou la fonction **float**.  \n",
    "Créer deux variables **float1** et **float2** des deux façons : "
   ]
  },
  {
   "cell_type": "markdown",
   "metadata": {},
   "source": [
    "En plus de l'écriture avec les underscores, on peut aussi écrire les nombres décimaux sous leur forme exponentielle."
   ]
  },
  {
   "cell_type": "code",
   "execution_count": 55,
   "metadata": {},
   "outputs": [
    {
     "data": {
      "text/plain": [
       "1000000.0"
      ]
     },
     "execution_count": 55,
     "metadata": {},
     "output_type": "execute_result"
    }
   ],
   "source": [
    "int_long_exp = 1e6\n",
    "int_long_exp"
   ]
  },
  {
   "cell_type": "markdown",
   "metadata": {},
   "source": [
    "Utiliser la forme exponentielle pour écrire les nombres suivants : \n",
    "- 29.10\n",
    "- 99807.1292\n",
    "- 0.0928"
   ]
  },
  {
   "cell_type": "markdown",
   "metadata": {},
   "source": [
    "Contrairement aux entiers, les nombres décimaux sont limités. "
   ]
  },
  {
   "cell_type": "code",
   "execution_count": null,
   "metadata": {},
   "outputs": [],
   "source": [
    "2e400"
   ]
  },
  {
   "cell_type": "code",
   "execution_count": null,
   "metadata": {},
   "outputs": [],
   "source": [
    "-2e400"
   ]
  },
  {
   "cell_type": "markdown",
   "metadata": {},
   "source": [
    "#### Utilisation des méthodes usuelles\n",
    "\n",
    "- vérifier que la variable **int_long_exp** est du type float\n",
    "- afficher l'ensemble des méthodes liées à cet objet\n",
    "- avec une méthode, vérifier qu'il s'agit en réalité d'un nombre entier\n",
    "- afficher la partie entière de **float1**\n",
    "- afficher la valeur absolue de **float2**"
   ]
  },
  {
   "cell_type": "markdown",
   "metadata": {},
   "source": [
    "<a id=\"arith\"></a>\n",
    "## Opérations arithmétiques\n",
    "\n",
    "Comme en C, il est assez simple de réaliser des opérations arithmétiques"
   ]
  },
  {
   "cell_type": "code",
   "execution_count": null,
   "metadata": {},
   "outputs": [],
   "source": [
    "2 + 3"
   ]
  },
  {
   "cell_type": "code",
   "execution_count": null,
   "metadata": {},
   "outputs": [],
   "source": [
    "3.8 - 8"
   ]
  },
  {
   "cell_type": "code",
   "execution_count": null,
   "metadata": {},
   "outputs": [],
   "source": [
    "9 * 10"
   ]
  },
  {
   "cell_type": "code",
   "execution_count": null,
   "metadata": {},
   "outputs": [],
   "source": [
    "12 / 6"
   ]
  },
  {
   "cell_type": "code",
   "execution_count": null,
   "metadata": {},
   "outputs": [],
   "source": [
    "12.8 / 6"
   ]
  },
  {
   "cell_type": "code",
   "execution_count": null,
   "metadata": {},
   "outputs": [],
   "source": [
    "19 / 0"
   ]
  },
  {
   "cell_type": "code",
   "execution_count": null,
   "metadata": {},
   "outputs": [],
   "source": [
    "12 // 6"
   ]
  },
  {
   "cell_type": "markdown",
   "metadata": {},
   "source": [
    "ATTENTION : les divisions en Python retournent un nombre décimal. Si vous voulez avoir un nombre entier en retour, il faudra soit convertir le résultat en entier `int(12 / 6)` ou utiliser l'opérateur floordiv **//** `12 // 6`"
   ]
  },
  {
   "cell_type": "markdown",
   "metadata": {},
   "source": [
    "### Quelques surprises avec les nombres décimaux\n",
    "\n",
    "Les calculs avec les nombres décimaux peuvent réserver certaines surprises. Voici un exemple :"
   ]
  },
  {
   "cell_type": "code",
   "execution_count": null,
   "metadata": {},
   "outputs": [],
   "source": [
    ".1 + .1 + .1 == .3"
   ]
  },
  {
   "cell_type": "code",
   "execution_count": null,
   "metadata": {},
   "outputs": [],
   "source": [
    ".1 + .1 + .1"
   ]
  },
  {
   "cell_type": "markdown",
   "metadata": {},
   "source": [
    "Le nombre 0.125 peut être écrit de plusieurs façons : \n",
    "> 0 / 2 + 0 / 4 + 1 / 8 (fractions binaires)  \n",
    "> 1 / 10 + 2 / 100 + 5 / 1000 (fractions décimales) "
   ]
  },
  {
   "cell_type": "markdown",
   "metadata": {},
   "source": [
    ">Les nombres à virgule flottante sont représentés, au niveau matériel, en fractions de nombres binaires (base 2). La valeur stockée est la représentation la plus proche en fraction binaire. Malheureusement, la plupart des fractions décimales ne peuvent pas avoir de représentation exacte en fractions binaires. Par conséquent, en général, les nombres à virgule flottante que vous donnez sont seulement approximés en fractions binaires pour être stockés dans la machine.\n",
    "\n",
    "*Documentation Python officielle*"
   ]
  },
  {
   "cell_type": "markdown",
   "metadata": {},
   "source": [
    "Donc les nombres décimaux que nous utilisons ne sont que des approximations, ce qui peut générer des erreurs de calcul. On peut arrondir le résultat des expressions pour pouvoir les comparer."
   ]
  },
  {
   "cell_type": "code",
   "execution_count": null,
   "metadata": {},
   "outputs": [],
   "source": [
    "round(.1 + .1 + .1, 10) == round(.3, 10)"
   ]
  },
  {
   "cell_type": "markdown",
   "metadata": {},
   "source": [
    "### Manipulation des nombres avec des fonctions mathématiques standard"
   ]
  },
  {
   "cell_type": "code",
   "execution_count": null,
   "metadata": {},
   "outputs": [],
   "source": [
    "nb = -87,90"
   ]
  },
  {
   "cell_type": "markdown",
   "metadata": {},
   "source": [
    "Trouver les fonctions pour : \n",
    "- arrondir nb\n",
    "- trouver sa puissance carrée\n",
    "- trouver sa valeur absolue"
   ]
  },
  {
   "cell_type": "markdown",
   "metadata": {},
   "source": [
    "<a id=\"bool\"></a>\n",
    "## Booléens\n",
    "\n",
    "Un booléen est une variable qui peut prendre seulement deux valeurs : True / False. "
   ]
  },
  {
   "cell_type": "code",
   "execution_count": null,
   "metadata": {},
   "outputs": [],
   "source": [
    "bool_true = True\n",
    "bool_true"
   ]
  },
  {
   "cell_type": "code",
   "execution_count": null,
   "metadata": {},
   "outputs": [],
   "source": [
    "bool_false = False\n",
    "bool_false"
   ]
  },
  {
   "cell_type": "markdown",
   "metadata": {},
   "source": [
    "Utiliser la fonction **bool()** pour convertir les valeurs **Hello**, **0**, **298**, **928.89**.  \n",
    "Quelle conclusion pouvez-vous en tirer ?"
   ]
  },
  {
   "cell_type": "code",
   "execution_count": null,
   "metadata": {},
   "outputs": [],
   "source": []
  },
  {
   "cell_type": "markdown",
   "metadata": {},
   "source": [
    "<a id=\"ope\"></a>\n",
    "### Opérateurs logiques"
   ]
  },
  {
   "cell_type": "markdown",
   "metadata": {},
   "source": [
    "**Opérateurs de comparaison**\n",
    "\n",
    "| Opérateur | Signification|\n",
    "|-----------|--------------|\n",
    "| < | Plus petit |\n",
    "| > | Plus grand |\n",
    "| <= | Plus petit ou égal |\n",
    "| >= | Plus grand ou égal |\n",
    "| == | Egal à |\n",
    "| != | Différent de |\n",
    "\n",
    "\n",
    "\n",
    "**Opérateurs logiques**\n",
    "\n",
    "| Opérateur | Signification|\n",
    "|-----------|--------------|\n",
    "| and | ET |\n",
    "| or | OU |\n",
    "| not(valeur) | Différent de valeur |\n",
    "\n",
    "\n",
    "Avec ces opérateurs, vous pouvez écrire des conditions qui serviront notamment dans les structures de contrôle que nous aborderons dans le prochain notebook.\n",
    "\n",
    "### Manipulation des opérateurs : \n",
    "\n",
    "- Créer une variable **greetings** avec la valeur \"Hello\"\n",
    "- Créer une condition qui vérifie que **greetings** équivaut à \"Hello\" et que sa longueur correspond à 5\n",
    "- Créer une variable **age** auquel vous assignerez un nombre entier\n",
    "- Vérifier que l'age est supérieur à 10 mais inférieur ou égal à 25"
   ]
  },
  {
   "cell_type": "markdown",
   "metadata": {},
   "source": [
    "## Ressources \n",
    "\n",
    "[Keywords in Python - Programiz](https://www.programiz.com/python-programming/keyword-list)    \n",
    "[Python Data Types - Real Python](https://realpython.com/python-data-types/)  \n",
    "[Floating Points - Docs Python](https://docs.python.org/fr/3.7/tutorial/floatingpoint.html)    \n",
    "[Numbers - Real Python](https://realpython.com/python-numbers/) "
   ]
  }
 ],
 "metadata": {
  "kernelspec": {
   "display_name": "Python 3",
   "language": "python",
   "name": "python3"
  },
  "language_info": {
   "codemirror_mode": {
    "name": "ipython",
    "version": 3
   },
   "file_extension": ".py",
   "mimetype": "text/x-python",
   "name": "python",
   "nbconvert_exporter": "python",
   "pygments_lexer": "ipython3",
   "version": "3.9.0"
  }
 },
 "nbformat": 4,
 "nbformat_minor": 4
}
